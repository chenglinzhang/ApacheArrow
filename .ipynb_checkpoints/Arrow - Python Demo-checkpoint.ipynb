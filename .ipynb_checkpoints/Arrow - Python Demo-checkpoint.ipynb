{
 "cells": [
  {
   "cell_type": "code",
   "execution_count": 1,
   "metadata": {
    "collapsed": false
   },
   "outputs": [
    {
     "data": {
      "text/html": [
       "<div>\n",
       "<table border=\"1\" class=\"dataframe\">\n",
       "  <thead>\n",
       "    <tr style=\"text-align: right;\">\n",
       "      <th></th>\n",
       "      <th>column_0</th>\n",
       "      <th>column_1</th>\n",
       "      <th>column_2</th>\n",
       "      <th>column_3</th>\n",
       "      <th>column_4</th>\n",
       "      <th>column_5</th>\n",
       "      <th>column_6</th>\n",
       "      <th>column_7</th>\n",
       "      <th>column_8</th>\n",
       "      <th>column_9</th>\n",
       "    </tr>\n",
       "  </thead>\n",
       "  <tbody>\n",
       "    <tr>\n",
       "      <th>0</th>\n",
       "      <td>NaN</td>\n",
       "      <td>NaN</td>\n",
       "      <td>NaN</td>\n",
       "      <td>NaN</td>\n",
       "      <td>NaN</td>\n",
       "      <td>NaN</td>\n",
       "      <td>NaN</td>\n",
       "      <td>NaN</td>\n",
       "      <td>NaN</td>\n",
       "      <td>NaN</td>\n",
       "    </tr>\n",
       "    <tr>\n",
       "      <th>1</th>\n",
       "      <td>-0.148976</td>\n",
       "      <td>-0.148976</td>\n",
       "      <td>-0.148976</td>\n",
       "      <td>-0.148976</td>\n",
       "      <td>-0.148976</td>\n",
       "      <td>-0.148976</td>\n",
       "      <td>-0.148976</td>\n",
       "      <td>-0.148976</td>\n",
       "      <td>-0.148976</td>\n",
       "      <td>-0.148976</td>\n",
       "    </tr>\n",
       "    <tr>\n",
       "      <th>2</th>\n",
       "      <td>2.478591</td>\n",
       "      <td>2.478591</td>\n",
       "      <td>2.478591</td>\n",
       "      <td>2.478591</td>\n",
       "      <td>2.478591</td>\n",
       "      <td>2.478591</td>\n",
       "      <td>2.478591</td>\n",
       "      <td>2.478591</td>\n",
       "      <td>2.478591</td>\n",
       "      <td>2.478591</td>\n",
       "    </tr>\n",
       "    <tr>\n",
       "      <th>3</th>\n",
       "      <td>-0.478077</td>\n",
       "      <td>-0.478077</td>\n",
       "      <td>-0.478077</td>\n",
       "      <td>-0.478077</td>\n",
       "      <td>-0.478077</td>\n",
       "      <td>-0.478077</td>\n",
       "      <td>-0.478077</td>\n",
       "      <td>-0.478077</td>\n",
       "      <td>-0.478077</td>\n",
       "      <td>-0.478077</td>\n",
       "    </tr>\n",
       "    <tr>\n",
       "      <th>4</th>\n",
       "      <td>1.251259</td>\n",
       "      <td>1.251259</td>\n",
       "      <td>1.251259</td>\n",
       "      <td>1.251259</td>\n",
       "      <td>1.251259</td>\n",
       "      <td>1.251259</td>\n",
       "      <td>1.251259</td>\n",
       "      <td>1.251259</td>\n",
       "      <td>1.251259</td>\n",
       "      <td>1.251259</td>\n",
       "    </tr>\n",
       "  </tbody>\n",
       "</table>\n",
       "</div>"
      ],
      "text/plain": [
       "   column_0  column_1  column_2  column_3  column_4  column_5  column_6  \\\n",
       "0       NaN       NaN       NaN       NaN       NaN       NaN       NaN   \n",
       "1 -0.148976 -0.148976 -0.148976 -0.148976 -0.148976 -0.148976 -0.148976   \n",
       "2  2.478591  2.478591  2.478591  2.478591  2.478591  2.478591  2.478591   \n",
       "3 -0.478077 -0.478077 -0.478077 -0.478077 -0.478077 -0.478077 -0.478077   \n",
       "4  1.251259  1.251259  1.251259  1.251259  1.251259  1.251259  1.251259   \n",
       "\n",
       "   column_7  column_8  column_9  \n",
       "0       NaN       NaN       NaN  \n",
       "1 -0.148976 -0.148976 -0.148976  \n",
       "2  2.478591  2.478591  2.478591  \n",
       "3 -0.478077 -0.478077 -0.478077  \n",
       "4  1.251259  1.251259  1.251259  "
      ]
     },
     "execution_count": 1,
     "metadata": {},
     "output_type": "execute_result"
    }
   ],
   "source": [
    "import feather\n",
    "import pandas as pd\n",
    "import numpy as np\n",
    "arr = np.random.randn(10000000) \n",
    "arr[::10] = np.nan # 10% nulls\n",
    "df = pd.DataFrame({'column_{0}'.format(i): arr for i in range(10)})\n",
    "df.head()"
   ]
  },
  {
   "cell_type": "code",
   "execution_count": 2,
   "metadata": {
    "collapsed": false
   },
   "outputs": [
    {
     "name": "stdout",
     "output_type": "stream",
     "text": [
      "CPU times: user 275 ms, sys: 1.15 s, total: 1.42 s\n",
      "Wall time: 1.49 s\n"
     ]
    }
   ],
   "source": [
    "%time feather.write_dataframe(df, 'test.feather') # Python notebook"
   ]
  },
  {
   "cell_type": "code",
   "execution_count": 3,
   "metadata": {
    "collapsed": false
   },
   "outputs": [
    {
     "name": "stdout",
     "output_type": "stream",
     "text": [
      "CPU times: user 699 ms, sys: 647 ms, total: 1.35 s\n",
      "Wall time: 1.35 s\n"
     ]
    }
   ],
   "source": [
    "%time df = feather.read_dataframe('test.feather') # Python notebook"
   ]
  },
  {
   "cell_type": "code",
   "execution_count": 4,
   "metadata": {
    "collapsed": false
   },
   "outputs": [
    {
     "data": {
      "text/html": [
       "<div>\n",
       "<table border=\"1\" class=\"dataframe\">\n",
       "  <thead>\n",
       "    <tr style=\"text-align: right;\">\n",
       "      <th></th>\n",
       "      <th>column_0</th>\n",
       "      <th>column_1</th>\n",
       "      <th>column_2</th>\n",
       "      <th>column_3</th>\n",
       "      <th>column_4</th>\n",
       "      <th>column_5</th>\n",
       "      <th>column_6</th>\n",
       "      <th>column_7</th>\n",
       "      <th>column_8</th>\n",
       "      <th>column_9</th>\n",
       "    </tr>\n",
       "  </thead>\n",
       "  <tbody>\n",
       "    <tr>\n",
       "      <th>0</th>\n",
       "      <td>NaN</td>\n",
       "      <td>NaN</td>\n",
       "      <td>NaN</td>\n",
       "      <td>NaN</td>\n",
       "      <td>NaN</td>\n",
       "      <td>NaN</td>\n",
       "      <td>NaN</td>\n",
       "      <td>NaN</td>\n",
       "      <td>NaN</td>\n",
       "      <td>NaN</td>\n",
       "    </tr>\n",
       "    <tr>\n",
       "      <th>1</th>\n",
       "      <td>-0.148976</td>\n",
       "      <td>-0.148976</td>\n",
       "      <td>-0.148976</td>\n",
       "      <td>-0.148976</td>\n",
       "      <td>-0.148976</td>\n",
       "      <td>-0.148976</td>\n",
       "      <td>-0.148976</td>\n",
       "      <td>-0.148976</td>\n",
       "      <td>-0.148976</td>\n",
       "      <td>-0.148976</td>\n",
       "    </tr>\n",
       "    <tr>\n",
       "      <th>2</th>\n",
       "      <td>2.478591</td>\n",
       "      <td>2.478591</td>\n",
       "      <td>2.478591</td>\n",
       "      <td>2.478591</td>\n",
       "      <td>2.478591</td>\n",
       "      <td>2.478591</td>\n",
       "      <td>2.478591</td>\n",
       "      <td>2.478591</td>\n",
       "      <td>2.478591</td>\n",
       "      <td>2.478591</td>\n",
       "    </tr>\n",
       "    <tr>\n",
       "      <th>3</th>\n",
       "      <td>-0.478077</td>\n",
       "      <td>-0.478077</td>\n",
       "      <td>-0.478077</td>\n",
       "      <td>-0.478077</td>\n",
       "      <td>-0.478077</td>\n",
       "      <td>-0.478077</td>\n",
       "      <td>-0.478077</td>\n",
       "      <td>-0.478077</td>\n",
       "      <td>-0.478077</td>\n",
       "      <td>-0.478077</td>\n",
       "    </tr>\n",
       "    <tr>\n",
       "      <th>4</th>\n",
       "      <td>1.251259</td>\n",
       "      <td>1.251259</td>\n",
       "      <td>1.251259</td>\n",
       "      <td>1.251259</td>\n",
       "      <td>1.251259</td>\n",
       "      <td>1.251259</td>\n",
       "      <td>1.251259</td>\n",
       "      <td>1.251259</td>\n",
       "      <td>1.251259</td>\n",
       "      <td>1.251259</td>\n",
       "    </tr>\n",
       "  </tbody>\n",
       "</table>\n",
       "</div>"
      ],
      "text/plain": [
       "   column_0  column_1  column_2  column_3  column_4  column_5  column_6  \\\n",
       "0       NaN       NaN       NaN       NaN       NaN       NaN       NaN   \n",
       "1 -0.148976 -0.148976 -0.148976 -0.148976 -0.148976 -0.148976 -0.148976   \n",
       "2  2.478591  2.478591  2.478591  2.478591  2.478591  2.478591  2.478591   \n",
       "3 -0.478077 -0.478077 -0.478077 -0.478077 -0.478077 -0.478077 -0.478077   \n",
       "4  1.251259  1.251259  1.251259  1.251259  1.251259  1.251259  1.251259   \n",
       "\n",
       "   column_7  column_8  column_9  \n",
       "0       NaN       NaN       NaN  \n",
       "1 -0.148976 -0.148976 -0.148976  \n",
       "2  2.478591  2.478591  2.478591  \n",
       "3 -0.478077 -0.478077 -0.478077  \n",
       "4  1.251259  1.251259  1.251259  "
      ]
     },
     "execution_count": 4,
     "metadata": {},
     "output_type": "execute_result"
    }
   ],
   "source": [
    "df.head()"
   ]
  }
 ],
 "metadata": {
  "kernelspec": {
   "display_name": "Python 2",
   "language": "python",
   "name": "python2"
  },
  "language_info": {
   "codemirror_mode": {
    "name": "ipython",
    "version": 2
   },
   "file_extension": ".py",
   "mimetype": "text/x-python",
   "name": "python",
   "nbconvert_exporter": "python",
   "pygments_lexer": "ipython2",
   "version": "2.7.12"
  }
 },
 "nbformat": 4,
 "nbformat_minor": 0
}
