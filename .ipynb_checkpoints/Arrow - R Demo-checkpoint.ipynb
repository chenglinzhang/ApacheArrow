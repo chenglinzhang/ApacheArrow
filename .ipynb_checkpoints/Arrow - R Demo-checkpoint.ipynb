{
 "cells": [
  {
   "cell_type": "code",
   "execution_count": 1,
   "metadata": {
    "collapsed": false
   },
   "outputs": [
    {
     "data": {
      "text/html": [
       "<table>\n",
       "<thead><tr><th></th><th scope=col>V1</th><th scope=col>V2</th><th scope=col>V3</th><th scope=col>V4</th><th scope=col>V5</th><th scope=col>V6</th><th scope=col>V7</th><th scope=col>V8</th><th scope=col>V9</th><th scope=col>V10</th></tr></thead>\n",
       "<tbody>\n",
       "\t<tr><th scope=row>1</th><td>0.9324907</td><td>0.9324907</td><td>0.9324907</td><td>0.9324907</td><td>0.9324907</td><td>0.9324907</td><td>0.9324907</td><td>0.9324907</td><td>0.9324907</td><td>0.9324907</td></tr>\n",
       "\t<tr><th scope=row>2</th><td>0.3293851</td><td>0.3293851</td><td>0.3293851</td><td>0.3293851</td><td>0.3293851</td><td>0.3293851</td><td>0.3293851</td><td>0.3293851</td><td>0.3293851</td><td>0.3293851</td></tr>\n",
       "\t<tr><th scope=row>3</th><td>0.8247446</td><td>0.8247446</td><td>0.8247446</td><td>0.8247446</td><td>0.8247446</td><td>0.8247446</td><td>0.8247446</td><td>0.8247446</td><td>0.8247446</td><td>0.8247446</td></tr>\n",
       "\t<tr><th scope=row>4</th><td>0.3898581</td><td>0.3898581</td><td>0.3898581</td><td>0.3898581</td><td>0.3898581</td><td>0.3898581</td><td>0.3898581</td><td>0.3898581</td><td>0.3898581</td><td>0.3898581</td></tr>\n",
       "\t<tr><th scope=row>5</th><td>0.08753278</td><td>0.08753278</td><td>0.08753278</td><td>0.08753278</td><td>0.08753278</td><td>0.08753278</td><td>0.08753278</td><td>0.08753278</td><td>0.08753278</td><td>0.08753278</td></tr>\n",
       "\t<tr><th scope=row>6</th><td>0.4330174</td><td>0.4330174</td><td>0.4330174</td><td>0.4330174</td><td>0.4330174</td><td>0.4330174</td><td>0.4330174</td><td>0.4330174</td><td>0.4330174</td><td>0.4330174</td></tr>\n",
       "</tbody>\n",
       "</table>\n"
      ],
      "text/latex": [
       "\\begin{tabular}{r|llllllllll}\n",
       "  & V1 & V2 & V3 & V4 & V5 & V6 & V7 & V8 & V9 & V10\\\\\n",
       "\\hline\n",
       "\t1 & 0.9324907 & 0.9324907 & 0.9324907 & 0.9324907 & 0.9324907 & 0.9324907 & 0.9324907 & 0.9324907 & 0.9324907 & 0.9324907\\\\\n",
       "\t2 & 0.3293851 & 0.3293851 & 0.3293851 & 0.3293851 & 0.3293851 & 0.3293851 & 0.3293851 & 0.3293851 & 0.3293851 & 0.3293851\\\\\n",
       "\t3 & 0.8247446 & 0.8247446 & 0.8247446 & 0.8247446 & 0.8247446 & 0.8247446 & 0.8247446 & 0.8247446 & 0.8247446 & 0.8247446\\\\\n",
       "\t4 & 0.3898581 & 0.3898581 & 0.3898581 & 0.3898581 & 0.3898581 & 0.3898581 & 0.3898581 & 0.3898581 & 0.3898581 & 0.3898581\\\\\n",
       "\t5 & 0.08753278 & 0.08753278 & 0.08753278 & 0.08753278 & 0.08753278 & 0.08753278 & 0.08753278 & 0.08753278 & 0.08753278 & 0.08753278\\\\\n",
       "\t6 & 0.4330174 & 0.4330174 & 0.4330174 & 0.4330174 & 0.4330174 & 0.4330174 & 0.4330174 & 0.4330174 & 0.4330174 & 0.4330174\\\\\n",
       "\\end{tabular}\n"
      ],
      "text/plain": [
       "          V1         V2         V3         V4         V5         V6         V7\n",
       "1 0.93249073 0.93249073 0.93249073 0.93249073 0.93249073 0.93249073 0.93249073\n",
       "2 0.32938513 0.32938513 0.32938513 0.32938513 0.32938513 0.32938513 0.32938513\n",
       "3 0.82474455 0.82474455 0.82474455 0.82474455 0.82474455 0.82474455 0.82474455\n",
       "4 0.38985812 0.38985812 0.38985812 0.38985812 0.38985812 0.38985812 0.38985812\n",
       "5 0.08753278 0.08753278 0.08753278 0.08753278 0.08753278 0.08753278 0.08753278\n",
       "6 0.43301739 0.43301739 0.43301739 0.43301739 0.43301739 0.43301739 0.43301739\n",
       "          V8         V9        V10\n",
       "1 0.93249073 0.93249073 0.93249073\n",
       "2 0.32938513 0.32938513 0.32938513\n",
       "3 0.82474455 0.82474455 0.82474455\n",
       "4 0.38985812 0.38985812 0.38985812\n",
       "5 0.08753278 0.08753278 0.08753278\n",
       "6 0.43301739 0.43301739 0.43301739"
      ]
     },
     "metadata": {},
     "output_type": "display_data"
    }
   ],
   "source": [
    "library(feather)\n",
    "x <- runif(1e7)\n",
    "x[sample(1e7, 1e6)] <- NA # 10% NA\n",
    "df <- as.data.frame(replicate(10, x))\n",
    "head(df)"
   ]
  },
  {
   "cell_type": "code",
   "execution_count": 2,
   "metadata": {
    "collapsed": false
   },
   "outputs": [
    {
     "data": {
      "text/plain": [
       "800001704 bytes"
      ]
     },
     "metadata": {},
     "output_type": "display_data"
    }
   ],
   "source": [
    "object.size(df) # memory"
   ]
  },
  {
   "cell_type": "code",
   "execution_count": 3,
   "metadata": {
    "collapsed": false
   },
   "outputs": [
    {
     "data": {
      "text/plain": [
       "   user  system elapsed \n",
       "  0.466   1.059   1.600 "
      ]
     },
     "metadata": {},
     "output_type": "display_data"
    }
   ],
   "source": [
    "system.time(write_feather(df, \"test.feather\")) # write"
   ]
  },
  {
   "cell_type": "code",
   "execution_count": 4,
   "metadata": {
    "collapsed": false
   },
   "outputs": [
    {
     "data": {
      "text/plain": [
       "   user  system elapsed \n",
       "  0.694   0.378   1.075 "
      ]
     },
     "metadata": {},
     "output_type": "display_data"
    }
   ],
   "source": [
    "system.time(read_feather(\"test.feather\")) # read"
   ]
  },
  {
   "cell_type": "code",
   "execution_count": null,
   "metadata": {
    "collapsed": true
   },
   "outputs": [],
   "source": [
    "data <- read_feather(\"test.feather\") # read\n",
    "head(data) # head"
   ]
  }
 ],
 "metadata": {
  "kernelspec": {
   "display_name": "R",
   "language": "R",
   "name": "ir"
  },
  "language_info": {
   "codemirror_mode": "r",
   "file_extension": ".r",
   "mimetype": "text/x-r-source",
   "name": "R",
   "pygments_lexer": "r",
   "version": "3.3.2"
  }
 },
 "nbformat": 4,
 "nbformat_minor": 0
}
