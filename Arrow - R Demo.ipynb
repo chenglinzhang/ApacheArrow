{
 "cells": [
  {
   "cell_type": "code",
   "execution_count": 1,
   "metadata": {
    "collapsed": false
   },
   "outputs": [
    {
     "data": {
      "text/html": [
       "<table>\n",
       "<thead><tr><th></th><th scope=col>V1</th><th scope=col>V2</th><th scope=col>V3</th><th scope=col>V4</th><th scope=col>V5</th><th scope=col>V6</th><th scope=col>V7</th><th scope=col>V8</th><th scope=col>V9</th><th scope=col>V10</th></tr></thead>\n",
       "<tbody>\n",
       "\t<tr><th scope=row>1</th><td>NA</td><td>NA</td><td>NA</td><td>NA</td><td>NA</td><td>NA</td><td>NA</td><td>NA</td><td>NA</td><td>NA</td></tr>\n",
       "\t<tr><th scope=row>2</th><td>0.5063982</td><td>0.5063982</td><td>0.5063982</td><td>0.5063982</td><td>0.5063982</td><td>0.5063982</td><td>0.5063982</td><td>0.5063982</td><td>0.5063982</td><td>0.5063982</td></tr>\n",
       "\t<tr><th scope=row>3</th><td>0.02910339</td><td>0.02910339</td><td>0.02910339</td><td>0.02910339</td><td>0.02910339</td><td>0.02910339</td><td>0.02910339</td><td>0.02910339</td><td>0.02910339</td><td>0.02910339</td></tr>\n",
       "\t<tr><th scope=row>4</th><td>0.762955</td><td>0.762955</td><td>0.762955</td><td>0.762955</td><td>0.762955</td><td>0.762955</td><td>0.762955</td><td>0.762955</td><td>0.762955</td><td>0.762955</td></tr>\n",
       "\t<tr><th scope=row>5</th><td>0.2022416</td><td>0.2022416</td><td>0.2022416</td><td>0.2022416</td><td>0.2022416</td><td>0.2022416</td><td>0.2022416</td><td>0.2022416</td><td>0.2022416</td><td>0.2022416</td></tr>\n",
       "\t<tr><th scope=row>6</th><td>0.1843856</td><td>0.1843856</td><td>0.1843856</td><td>0.1843856</td><td>0.1843856</td><td>0.1843856</td><td>0.1843856</td><td>0.1843856</td><td>0.1843856</td><td>0.1843856</td></tr>\n",
       "</tbody>\n",
       "</table>\n"
      ],
      "text/latex": [
       "\\begin{tabular}{r|llllllllll}\n",
       "  & V1 & V2 & V3 & V4 & V5 & V6 & V7 & V8 & V9 & V10\\\\\n",
       "\\hline\n",
       "\t1 & NA & NA & NA & NA & NA & NA & NA & NA & NA & NA\\\\\n",
       "\t2 & 0.5063982 & 0.5063982 & 0.5063982 & 0.5063982 & 0.5063982 & 0.5063982 & 0.5063982 & 0.5063982 & 0.5063982 & 0.5063982\\\\\n",
       "\t3 & 0.02910339 & 0.02910339 & 0.02910339 & 0.02910339 & 0.02910339 & 0.02910339 & 0.02910339 & 0.02910339 & 0.02910339 & 0.02910339\\\\\n",
       "\t4 & 0.762955 & 0.762955 & 0.762955 & 0.762955 & 0.762955 & 0.762955 & 0.762955 & 0.762955 & 0.762955 & 0.762955\\\\\n",
       "\t5 & 0.2022416 & 0.2022416 & 0.2022416 & 0.2022416 & 0.2022416 & 0.2022416 & 0.2022416 & 0.2022416 & 0.2022416 & 0.2022416\\\\\n",
       "\t6 & 0.1843856 & 0.1843856 & 0.1843856 & 0.1843856 & 0.1843856 & 0.1843856 & 0.1843856 & 0.1843856 & 0.1843856 & 0.1843856\\\\\n",
       "\\end{tabular}\n"
      ],
      "text/plain": [
       "          V1         V2         V3         V4         V5         V6         V7\n",
       "1         NA         NA         NA         NA         NA         NA         NA\n",
       "2 0.50639819 0.50639819 0.50639819 0.50639819 0.50639819 0.50639819 0.50639819\n",
       "3 0.02910339 0.02910339 0.02910339 0.02910339 0.02910339 0.02910339 0.02910339\n",
       "4 0.76295497 0.76295497 0.76295497 0.76295497 0.76295497 0.76295497 0.76295497\n",
       "5 0.20224157 0.20224157 0.20224157 0.20224157 0.20224157 0.20224157 0.20224157\n",
       "6 0.18438556 0.18438556 0.18438556 0.18438556 0.18438556 0.18438556 0.18438556\n",
       "          V8         V9        V10\n",
       "1         NA         NA         NA\n",
       "2 0.50639819 0.50639819 0.50639819\n",
       "3 0.02910339 0.02910339 0.02910339\n",
       "4 0.76295497 0.76295497 0.76295497\n",
       "5 0.20224157 0.20224157 0.20224157\n",
       "6 0.18438556 0.18438556 0.18438556"
      ]
     },
     "metadata": {},
     "output_type": "display_data"
    }
   ],
   "source": [
    "library(feather)\n",
    "x <- runif(1e7)\n",
    "x[sample(1e7, 1e6)] <- NA # 10% NA\n",
    "df <- as.data.frame(replicate(10, x))\n",
    "head(df)"
   ]
  },
  {
   "cell_type": "code",
   "execution_count": 2,
   "metadata": {
    "collapsed": false
   },
   "outputs": [
    {
     "data": {
      "text/plain": [
       "800001704 bytes"
      ]
     },
     "metadata": {},
     "output_type": "display_data"
    }
   ],
   "source": [
    "object.size(df) # memory size"
   ]
  },
  {
   "cell_type": "code",
   "execution_count": 3,
   "metadata": {
    "collapsed": false
   },
   "outputs": [
    {
     "data": {
      "text/plain": [
       "   user  system elapsed \n",
       "  0.479   1.168   1.703 "
      ]
     },
     "metadata": {},
     "output_type": "display_data"
    }
   ],
   "source": [
    "system.time(write_feather(df, \"test.feather\")) # write"
   ]
  },
  {
   "cell_type": "code",
   "execution_count": 4,
   "metadata": {
    "collapsed": false
   },
   "outputs": [
    {
     "data": {
      "text/plain": [
       "   user  system elapsed \n",
       "  0.735   0.693   2.225 "
      ]
     },
     "metadata": {},
     "output_type": "display_data"
    }
   ],
   "source": [
    "system.time(read_feather(\"test.feather\")) # read"
   ]
  },
  {
   "cell_type": "code",
   "execution_count": 5,
   "metadata": {
    "collapsed": false
   },
   "outputs": [
    {
     "data": {
      "text/html": [
       "<table>\n",
       "<thead><tr><th></th><th scope=col>V1</th><th scope=col>V2</th><th scope=col>V3</th><th scope=col>V4</th><th scope=col>V5</th><th scope=col>V6</th><th scope=col>V7</th><th scope=col>V8</th><th scope=col>V9</th><th scope=col>V10</th></tr></thead>\n",
       "<tbody>\n",
       "\t<tr><th scope=row>1</th><td>NA</td><td>NA</td><td>NA</td><td>NA</td><td>NA</td><td>NA</td><td>NA</td><td>NA</td><td>NA</td><td>NA</td></tr>\n",
       "\t<tr><th scope=row>2</th><td>0.5063982</td><td>0.5063982</td><td>0.5063982</td><td>0.5063982</td><td>0.5063982</td><td>0.5063982</td><td>0.5063982</td><td>0.5063982</td><td>0.5063982</td><td>0.5063982</td></tr>\n",
       "\t<tr><th scope=row>3</th><td>0.02910339</td><td>0.02910339</td><td>0.02910339</td><td>0.02910339</td><td>0.02910339</td><td>0.02910339</td><td>0.02910339</td><td>0.02910339</td><td>0.02910339</td><td>0.02910339</td></tr>\n",
       "\t<tr><th scope=row>4</th><td>0.762955</td><td>0.762955</td><td>0.762955</td><td>0.762955</td><td>0.762955</td><td>0.762955</td><td>0.762955</td><td>0.762955</td><td>0.762955</td><td>0.762955</td></tr>\n",
       "\t<tr><th scope=row>5</th><td>0.2022416</td><td>0.2022416</td><td>0.2022416</td><td>0.2022416</td><td>0.2022416</td><td>0.2022416</td><td>0.2022416</td><td>0.2022416</td><td>0.2022416</td><td>0.2022416</td></tr>\n",
       "\t<tr><th scope=row>6</th><td>0.1843856</td><td>0.1843856</td><td>0.1843856</td><td>0.1843856</td><td>0.1843856</td><td>0.1843856</td><td>0.1843856</td><td>0.1843856</td><td>0.1843856</td><td>0.1843856</td></tr>\n",
       "</tbody>\n",
       "</table>\n"
      ],
      "text/latex": [
       "\\begin{tabular}{r|llllllllll}\n",
       "  & V1 & V2 & V3 & V4 & V5 & V6 & V7 & V8 & V9 & V10\\\\\n",
       "\\hline\n",
       "\t1 & NA & NA & NA & NA & NA & NA & NA & NA & NA & NA\\\\\n",
       "\t2 & 0.5063982 & 0.5063982 & 0.5063982 & 0.5063982 & 0.5063982 & 0.5063982 & 0.5063982 & 0.5063982 & 0.5063982 & 0.5063982\\\\\n",
       "\t3 & 0.02910339 & 0.02910339 & 0.02910339 & 0.02910339 & 0.02910339 & 0.02910339 & 0.02910339 & 0.02910339 & 0.02910339 & 0.02910339\\\\\n",
       "\t4 & 0.762955 & 0.762955 & 0.762955 & 0.762955 & 0.762955 & 0.762955 & 0.762955 & 0.762955 & 0.762955 & 0.762955\\\\\n",
       "\t5 & 0.2022416 & 0.2022416 & 0.2022416 & 0.2022416 & 0.2022416 & 0.2022416 & 0.2022416 & 0.2022416 & 0.2022416 & 0.2022416\\\\\n",
       "\t6 & 0.1843856 & 0.1843856 & 0.1843856 & 0.1843856 & 0.1843856 & 0.1843856 & 0.1843856 & 0.1843856 & 0.1843856 & 0.1843856\\\\\n",
       "\\end{tabular}\n"
      ],
      "text/plain": [
       "          V1         V2         V3         V4         V5         V6         V7\n",
       "1         NA         NA         NA         NA         NA         NA         NA\n",
       "2 0.50639819 0.50639819 0.50639819 0.50639819 0.50639819 0.50639819 0.50639819\n",
       "3 0.02910339 0.02910339 0.02910339 0.02910339 0.02910339 0.02910339 0.02910339\n",
       "4 0.76295497 0.76295497 0.76295497 0.76295497 0.76295497 0.76295497 0.76295497\n",
       "5 0.20224157 0.20224157 0.20224157 0.20224157 0.20224157 0.20224157 0.20224157\n",
       "6 0.18438556 0.18438556 0.18438556 0.18438556 0.18438556 0.18438556 0.18438556\n",
       "          V8         V9        V10\n",
       "1         NA         NA         NA\n",
       "2 0.50639819 0.50639819 0.50639819\n",
       "3 0.02910339 0.02910339 0.02910339\n",
       "4 0.76295497 0.76295497 0.76295497\n",
       "5 0.20224157 0.20224157 0.20224157\n",
       "6 0.18438556 0.18438556 0.18438556"
      ]
     },
     "metadata": {},
     "output_type": "display_data"
    }
   ],
   "source": [
    "data <- read_feather(\"test.feather\") \n",
    "head(data)"
   ]
  }
 ],
 "metadata": {
  "kernelspec": {
   "display_name": "R",
   "language": "R",
   "name": "ir"
  },
  "language_info": {
   "codemirror_mode": "r",
   "file_extension": ".r",
   "mimetype": "text/x-r-source",
   "name": "R",
   "pygments_lexer": "r",
   "version": "3.3.2"
  }
 },
 "nbformat": 4,
 "nbformat_minor": 0
}
